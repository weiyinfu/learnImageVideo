{
 "cells": [
  {
   "cell_type": "code",
   "execution_count": 1,
   "metadata": {
    "collapsed": true
   },
   "outputs": [],
   "source": [
    "import numpy as np\n",
    "from skimage import exposure"
   ]
  },
  {
   "cell_type": "code",
   "execution_count": 6,
   "metadata": {},
   "outputs": [
    {
     "data": {
      "text/plain": [
       "array([ 1.        ,  0.50196078,  0.        ])"
      ]
     },
     "execution_count": 6,
     "metadata": {},
     "output_type": "execute_result"
    }
   ],
   "source": [
    "#rescale_intensity缩放数组\n",
    "#需要注意exposure.rescale_intensity的输出数组类型与输入数组类型一样\n",
    "a=np.array([255,128,0]).astype(np.float64)\n",
    "exposure.rescale_intensity(a,in_range=(0,255),out_range=(0,1))"
   ]
  },
  {
   "cell_type": "code",
   "execution_count": 8,
   "metadata": {},
   "outputs": [
    {
     "data": {
      "text/plain": [
       "(array([5, 1, 6, 5, 3], dtype=int64),\n array([  0. ,  19.2,  38.4,  57.6,  76.8,  96. ]))"
      ]
     },
     "execution_count": 8,
     "metadata": {},
     "output_type": "execute_result"
    }
   ],
   "source": [
    "#numpy中的histgram\n",
    "a = np.random.randint(0, 100, (20))\n",
    "np.histogram(a, bins=5)\n",
    "#输出为两个ndarray构成的元组，第一个ndarray表示个数\n",
    "# 第二个ndarray表示横轴"
   ]
  },
  {
   "cell_type": "code",
   "execution_count": 11,
   "metadata": {},
   "outputs": [
    {
     "data": {
      "text/plain": [
       "(array([1, 0, 0, 1, 0, 0, 0, 0, 0, 0, 0, 0, 1, 0, 0, 0, 0, 0, 0, 0, 0, 0, 0,\n        0, 1, 0, 0, 0, 0, 0, 0, 1, 0, 0, 0, 0, 0, 1, 0, 0, 0, 0, 0, 0, 0, 0,\n        0, 0, 1, 0, 0, 0, 0, 1, 1, 0, 0, 1, 0, 0, 0, 0, 3, 1, 0, 0, 0, 0, 0,\n        0, 2, 0, 0, 2, 0, 0, 0, 0, 1, 0, 0, 0, 1], dtype=int64),\n array([ 8,  9, 10, 11, 12, 13, 14, 15, 16, 17, 18, 19, 20, 21, 22, 23, 24,\n        25, 26, 27, 28, 29, 30, 31, 32, 33, 34, 35, 36, 37, 38, 39, 40, 41,\n        42, 43, 44, 45, 46, 47, 48, 49, 50, 51, 52, 53, 54, 55, 56, 57, 58,\n        59, 60, 61, 62, 63, 64, 65, 66, 67, 68, 69, 70, 71, 72, 73, 74, 75,\n        76, 77, 78, 79, 80, 81, 82, 83, 84, 85, 86, 87, 88, 89, 90]))"
      ]
     },
     "execution_count": 11,
     "metadata": {},
     "output_type": "execute_result"
    }
   ],
   "source": [
    "#skimage中的histgram\n",
    "#exposure.histgram每一个元素作为一个bin，没有区间的概念\n",
    "a=np.random.randint(0,100,(20))\n",
    "exposure.histogram(a,nbins=2)"
   ]
  },
  {
   "cell_type": "code",
   "execution_count": 15,
   "metadata": {},
   "outputs": [
    {
     "data": {
      "text/plain": [
       "(array([ 0.2,  0.6,  0.6,  0.8,  1. ]), array([ 0.25,  0.5 ,  0.75,  1.  ]))"
      ]
     },
     "execution_count": 15,
     "metadata": {},
     "output_type": "execute_result"
    }
   ],
   "source": [
    "#直方图均衡化\n",
    "x=exposure.equalize_hist(np.array([1,2,2,3,4]))\n",
    "#输出为1/5,3/5,3/5,4/5,5/5\n",
    "y=exposure.equalize_hist(np.array([1,2,3,4]))\n",
    "x,y\n",
    "#输出为1/4,2/4,3/4,4/4"
   ]
  }
 ],
 "metadata": {
  "kernelspec": {
   "display_name": "Python 2",
   "language": "python",
   "name": "python2"
  },
  "language_info": {
   "codemirror_mode": {
    "name": "ipython",
    "version": 2
   },
   "file_extension": ".py",
   "mimetype": "text/x-python",
   "name": "python",
   "nbconvert_exporter": "python",
   "pygments_lexer": "ipython2",
   "version": "2.7.6"
  }
 },
 "nbformat": 4,
 "nbformat_minor": 0
}
