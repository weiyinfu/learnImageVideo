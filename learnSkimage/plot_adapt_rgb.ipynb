{
 "cells": [
  {
   "cell_type": "code",
   "execution_count": null,
   "metadata": {
    "collapsed": false
   },
   "outputs": [],
   "source": [
    "%matplotlib inline"
   ]
  },
  {
   "cell_type": "markdown",
   "metadata": {},
   "source": [
    "\n",
    "# Adapting gray-scale filters to RGB images\n",
    "\n",
    "\n",
    "There are many filters that are designed to work with gray-scale images but not\n",
    "with color images. To simplify the process of creating functions that can adapt\n",
    "to RGB images, scikit-image provides the ``adapt_rgb`` decorator.\n",
    "\n",
    "To actually use the ``adapt_rgb`` decorator, you have to decide how you want to\n",
    "adapt the RGB image for use with the gray-scale filter. There are two\n",
    "pre-defined handlers:\n",
    "\n",
    "``each_channel``\n",
    "    Pass each of the RGB channels to the filter one-by-one, and stitch the\n",
    "    results back into an RGB image.\n",
    "``hsv_value``\n",
    "    Convert the RGB image to HSV and pass the value channel to the filter.\n",
    "    The filtered result is inserted back into the HSV image and converted\n",
    "    back to RGB.\n",
    "\n",
    "Below, we demonstrate the use of ``adapt_rgb`` on a couple of gray-scale\n",
    "filters:\n",
    "\n"
   ]
  },
  {
   "cell_type": "code",
   "execution_count": 1,
   "metadata": {
    "collapsed": false
   },
   "outputs": [],
   "source": [
    "from skimage.color.adapt_rgb import adapt_rgb, each_channel, hsv_value\n",
    "from skimage import filters\n",
    "\n",
    "\n",
    "@adapt_rgb(each_channel)\n",
    "def sobel_each(image):\n",
    "    return filters.sobel(image)\n",
    "\n",
    "\n",
    "@adapt_rgb(hsv_value)\n",
    "def sobel_hsv(image):\n",
    "    return filters.sobel(image)"
   ]
  },
  {
   "cell_type": "markdown",
   "metadata": {},
   "source": [
    "We can use these functions as we would normally use them, but now they work\nwith both gray-scale and color images. Let's plot the results with a color\nimage:\n\n"
   ]
  },
  {
   "cell_type": "code",
   "execution_count": 2,
   "metadata": {
    "collapsed": false
   },
   "outputs": [
    {
     "data": {
      "text/plain": [
       "<matplotlib.text.Text at 0xa97769ec50>"
      ]
     },
     "execution_count": 2,
     "metadata": {},
     "output_type": "execute_result"
    }
   ],
   "source": [
    "from skimage import data\n",
    "from skimage.exposure import rescale_intensity\n",
    "import matplotlib.pyplot as plt\n",
    "\n",
    "image = data.astronaut()\n",
    "\n",
    "fig = plt.figure(figsize=(14, 7))\n",
    "ax_each = fig.add_subplot(121, adjustable='box-forced')\n",
    "ax_hsv = fig.add_subplot(122, sharex=ax_each, sharey=ax_each,\n",
    "                         adjustable='box-forced')\n",
    "\n",
    "# We use 1 - sobel_each(image)\n",
    "# but this will not work if image is not normalized\n",
    "ax_each.imshow(rescale_intensity(1 - sobel_each(image)))\n",
    "ax_each.set_xticks([]), ax_each.set_yticks([])\n",
    "ax_each.set_title(\"Sobel filter computed\\n on individual RGB channels\")\n",
    "\n",
    "# We use 1 - sobel_hsv(image) but this will not work if image is not normalized\n",
    "ax_hsv.imshow(rescale_intensity(1 - sobel_hsv(image)))\n",
    "ax_hsv.set_xticks([]), ax_hsv.set_yticks([])\n",
    "ax_hsv.set_title(\"Sobel filter computed\\n on (V)alue converted image (HSV)\")"
   ]
  },
  {
   "cell_type": "markdown",
   "metadata": {},
   "source": [
    "Notice that the result for the value-filtered image preserves the color of\nthe original image, but channel filtered image combines in a more\nsurprising way. In other common cases, smoothing for example, the channel\nfiltered image will produce a better result than the value-filtered image.\n\nYou can also create your own handler functions for ``adapt_rgb``. To do so,\njust create a function with the following signature::\n\n    def handler(image_filter, image, *args, **kwargs):\n        # Manipulate RGB image here...\n        image = image_filter(image, *args, **kwargs)\n        # Manipulate filtered image here...\n        return image\n\nNote that ``adapt_rgb`` handlers are written for filters where the image is\nthe first argument.\n\nAs a very simple example, we can just convert any RGB image to grayscale\nand then return the filtered result:\n\n"
   ]
  },
  {
   "cell_type": "code",
   "execution_count": 3,
   "metadata": {
    "collapsed": false
   },
   "outputs": [],
   "source": [
    "from skimage.color import rgb2gray\n",
    "\n",
    "\n",
    "def as_gray(image_filter, image, *args, **kwargs):\n",
    "    gray_image = rgb2gray(image)\n",
    "    return image_filter(gray_image, *args, **kwargs)"
   ]
  },
  {
   "cell_type": "markdown",
   "metadata": {},
   "source": [
    "It's important to create a signature that uses ``*args`` and ``**kwargs``\nto pass arguments along to the filter so that the decorated function is\nallowed to have any number of positional and keyword arguments.\n\nFinally, we can use this handler with ``adapt_rgb`` just as before:\n\n"
   ]
  },
  {
   "cell_type": "code",
   "execution_count": 4,
   "metadata": {
    "collapsed": false
   },
   "outputs": [],
   "source": [
    "@adapt_rgb(as_gray)\n",
    "def sobel_gray(image):\n",
    "    return filters.sobel(image)\n",
    "\n",
    "fig = plt.figure(figsize=(7, 7))\n",
    "ax = fig.add_subplot(111, sharex=ax_each, sharey=ax_each,\n",
    "                     adjustable='box-forced')\n",
    "\n",
    "# We use 1 - sobel_gray(image)\n",
    "# but this will not work if image is not normalized\n",
    "ax.imshow(rescale_intensity(1 - sobel_gray(image)), cmap=plt.cm.gray)\n",
    "ax.set_xticks([]), ax.set_yticks([])\n",
    "ax.set_title(\"Sobel filter computed\\n on the converted grayscale image\")\n",
    "\n",
    "plt.show()"
   ]
  },
  {
   "cell_type": "markdown",
   "metadata": {},
   "source": [
    "<div class=\"alert alert-info\"><h4>Note</h4><p>A very simple check of the array shape is used for detecting RGB\n    images, so ``adapt_rgb`` is not recommended for functions that support\n    3D volumes or color images in non-RGB spaces.</p></div>\n\n"
   ]
  }
 ],
 "metadata": {
  "language_info": {
   "file_extension": ".py",
   "version": "3.4.6",
   "pygments_lexer": "ipython3",
   "nbconvert_exporter": "python",
   "mimetype": "text/x-python",
   "codemirror_mode": {
    "version": 3,
    "name": "ipython"
   },
   "name": "python"
  },
  "kernelspec": {
   "display_name": "Python 3",
   "name": "python3",
   "language": "python"
  }
 },
 "nbformat": 4,
 "nbformat_minor": 0
}
