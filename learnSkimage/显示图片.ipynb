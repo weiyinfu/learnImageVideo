{
 "cells": [
  {
   "cell_type": "code",
   "execution_count": 2,
   "metadata": {
    "collapsed": true
   },
   "outputs": [],
   "source": [
    "from skimage import io,data\n",
    "import matplotlib.pyplot as plt\n",
    "io.imshow(data.astronaut())\n",
    "io.show()\n",
    "\n",
    "io.imshow_collection([data.astronaut(),data.coins()])\n",
    "io.show()\n",
    "\n",
    "io.imshow(data.astronaut())#io.show本质上还是plt.show\n",
    "plt.show()\n",
    "\n",
    "plt.imshow(data.astronaut())\n",
    "plt.show()"
   ]
  },
  {
   "cell_type": "markdown",
   "metadata": {},
   "source": [
    "matplotlib.pyplot.imshow(X, cmap=None)\n",
    "\n",
    "X: 要绘制的图像或数组。\n",
    "\n",
    "cmap: 颜色图谱（colormap), 默认绘制为RGB(A)颜色空间。\n",
    "\n",
    "其它可选的颜色图谱如下列表：\n",
    "\n",
    "颜色图谱\t描述\n",
    "autumn\t红-橙-黄  \n",
    "bone\t黑-白，x线  \n",
    "cool\t青-洋红  \n",
    "copper\t黑-铜  \n",
    "flag\t红-白-蓝-黑  \n",
    "gray\t黑-白  \n",
    "hot\t黑-红-黄-白  \n",
    "hsv\thsv颜色空间， 红-黄-绿-青-蓝-洋红-红   \n",
    "inferno\t黑-红-黄  \n",
    "jet\t蓝-青-黄-红  \n",
    "magma\t黑-红-白  \n",
    "pink\t黑-粉-白  \n",
    "plasma\t绿-红-黄  \n",
    "prism\t 红-黄-绿-蓝-紫-...-绿模式  \n",
    "spring\t洋红-黄  \n",
    "summer\t绿-黄  \n",
    "viridis\t蓝-绿-黄  \n",
    "winter\t蓝-绿  "
   ]
  },
  {
   "cell_type": "code",
   "execution_count": 6,
   "metadata": {},
   "outputs": [],
   "source": [
    "#显示子图的第一种方式\n",
    "from skimage import data\n",
    "import matplotlib.pyplot as plt\n",
    "\n",
    "img = data.astronaut()\n",
    "plt.figure(num='astronaut', figsize=(8, 8))  # 创建一个名为astronaut的窗口,并设置大小\n",
    "\n",
    "plt.subplot(2, 2, 1)  # 将窗口分为两行两列四个子图，则可显示四幅图片\n",
    "plt.title('origin image')  # 第一幅图片标题\n",
    "plt.imshow(img)  # 绘制第一幅图片\n",
    "\n",
    "plt.subplot(2, 2, 2)  # 第二个子图\n",
    "plt.title('R channel')  # 第二幅图片标题\n",
    "plt.imshow(img[:, :, 0], plt.cm.gray)  # 绘制第二幅图片,且为灰度图\n",
    "plt.axis('off')  # 不显示坐标尺寸\n",
    "\n",
    "plt.subplot(2, 2, 3)  # 第三个子图\n",
    "plt.title('G channel')  # 第三幅图片标题\n",
    "plt.imshow(img[:, :, 1], plt.cm.gray)  # 绘制第三幅图片,且为灰度图\n",
    "plt.axis('off')  # 不显示坐标尺寸\n",
    "\n",
    "plt.subplot(2, 2, 4)  # 第四个子图\n",
    "plt.title('B channel')  # 第四幅图片标题\n",
    "plt.imshow(img[:, :, 2], plt.cm.gray)  # 绘制第四幅图片,且为灰度图\n",
    "plt.axis('off')  # 不显示坐标尺寸\n",
    "\n",
    "plt.show()  # 显示窗口\n"
   ]
  },
  {
   "cell_type": "code",
   "execution_count": 5,
   "metadata": {},
   "outputs": [],
   "source": [
    "#另一种划分子图的方式\n",
    "import matplotlib.pyplot as plt\n",
    "from skimage import data,color\n",
    "\n",
    "img = data.immunohistochemistry()\n",
    "hsv = color.rgb2hsv(img)\n",
    "\n",
    "fig, axes = plt.subplots(2, 2, figsize=(7, 6))\n",
    "ax0, ax1, ax2, ax3 = axes.ravel()\n",
    "\n",
    "ax0.imshow(img)\n",
    "ax0.set_title(\"Original image\")\n",
    "\n",
    "ax1.imshow(hsv[:, :, 0], cmap=plt.cm.gray)\n",
    "ax1.set_title(\"H\")\n",
    "\n",
    "ax2.imshow(hsv[:, :, 1], cmap=plt.cm.gray)\n",
    "ax2.set_title(\"S\")\n",
    "\n",
    "ax3.imshow(hsv[:, :, 2], cmap=plt.cm.gray)\n",
    "ax3.set_title(\"V\")\n",
    "\n",
    "for ax in axes.ravel():\n",
    "    ax.axis('off')\n",
    "\n",
    "fig.tight_layout()  #自动调整subplot间的参数\n",
    "plt.show()"
   ]
  },
  {
   "cell_type": "markdown",
   "metadata": {},
   "source": [
    "最后总结一下，绘制和显示图片常用到的函数有：\n",
    "\n",
    "函数名\t功能\t调用格式  \n",
    "figure\t创建一个显示窗口\tplt.figure(num=1,figsize=(8,8)  \n",
    "imshow\t绘制图片\tplt.imshow(image)  \n",
    "show\t显示窗口\tplt.show()  \n",
    "subplot\t划分子图\tplt.subplot(2,2,1)  \n",
    "title\t设置子图标题(与subplot结合使用）\tplt.title('origin image')  \n",
    "axis\t是否显示坐标尺\tplt.axis('off')  \n",
    "subplots\t创建带有多个子图的窗口\tfig,axes=plt.subplots(2,2,figsize=(8,8))  \n",
    "ravel\t为每个子图设置变量\tax0,ax1,ax2,ax3=axes.ravel()    \n",
    "set_title\t设置子图标题（与axes结合使用）\tax0.set_title('first window')    \n",
    "tight_layout\t自动调整子图显示布局\tplt.tight_layout()   "
   ]
  }
 ],
 "metadata": {
  "kernelspec": {
   "display_name": "Python 2",
   "language": "python",
   "name": "python2"
  },
  "language_info": {
   "codemirror_mode": {
    "name": "ipython",
    "version": 2
   },
   "file_extension": ".py",
   "mimetype": "text/x-python",
   "name": "python",
   "nbconvert_exporter": "python",
   "pygments_lexer": "ipython2",
   "version": "2.7.6"
  }
 },
 "nbformat": 4,
 "nbformat_minor": 0
}
