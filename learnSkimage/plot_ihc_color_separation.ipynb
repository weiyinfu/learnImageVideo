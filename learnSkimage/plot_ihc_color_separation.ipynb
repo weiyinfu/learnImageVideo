{
 "cells": [
  {
   "cell_type": "heading",
   "metadata": {},
   "level": 1,
   "source": [
    "免疫组织化学反应"
   ]
  },
  {
   "cell_type": "code",
   "execution_count": null,
   "metadata": {
    "collapsed": false
   },
   "outputs": [],
   "source": [
    "%matplotlib inline"
   ]
  },
  {
   "cell_type": "markdown",
   "metadata": {},
   "source": [
    "\n",
    "# Immunohistochemical staining colors separation\n",
    "\n",
    "\n",
    "Color deconvolution consists of the separation of features by their colors.\n",
    "\n",
    "In this example we separate the immunohistochemical (IHC) staining from the\n",
    "hematoxylin counterstaining. The separation is achieved with the method\n",
    "described in [1]_, known as \"color deconvolution\".\n",
    "\n",
    "The IHC staining expression of the FHL2 protein is here revealed with\n",
    "Diaminobenzidine (DAB) which gives a brown color.\n",
    "\n",
    "\n",
    ".. [1] A. C. Ruifrok and D. A. Johnston, \"Quantification of histochemical\n",
    "       staining by color deconvolution.,\" Analytical and quantitative\n",
    "       cytology and histology / the International Academy of Cytology [and]\n",
    "       American Society of Cytology, vol. 23, no. 4, pp. 291-9, Aug. 2001.\n",
    "\n",
    "\n",
    "## HED颜色空间  \n",
    "苏木精 — 伊红染色法 ( hematoxylin-eosin staining ) ，简称HE染色法 ，石蜡切片技术里常用的染色法之一 。苏木精染液为碱性 ，主要使细胞核内的染色质与胞质内的核酸着紫蓝色 ；伊红为酸性染料 ，主要使细胞质和细胞外基质中的成分着红色 。HE染色法是组织学、胚胎学、病理学教学与科研中最基本、使用最广泛的技术方法。\n"
   ]
  },
  {
   "cell_type": "code",
   "execution_count": 1,
   "metadata": {
    "collapsed": false
   },
   "outputs": [],
   "source": [
    "import matplotlib.pyplot as plt\n",
    "\n",
    "from skimage import data, viewer\n",
    "from skimage.color import rgb2hed\n",
    "from matplotlib.colors import LinearSegmentedColormap\n",
    "\n",
    "# Create an artificial color close to the orginal one\n",
    "cmap_hema = LinearSegmentedColormap.from_list('mycmap', ['white', 'navy'])\n",
    "cmap_dab = LinearSegmentedColormap.from_list('mycmap', ['white',\n",
    "                                                        'saddlebrown'])\n",
    "cmap_eosin = LinearSegmentedColormap.from_list('mycmap', ['darkviolet',\n",
    "                                                          'white'])\n",
    "\n",
    "#读取文件\n",
    "ihc_rgb = data.immunohistochemistry()\n",
    "#颜色空间转换RGB->HED\n",
    "ihc_hed = rgb2hed(ihc_rgb)\n",
    "\n",
    "fig, axes = plt.subplots(2, 2, figsize=(7, 6), sharex=True, sharey=True,\n",
    "                         subplot_kw={'adjustable': 'box-forced'})\n",
    "#把二维数组展平\n",
    "ax = axes.ravel()\n",
    "\n",
    "ax[0].imshow(ihc_rgb)\n",
    "ax[0].set_title(\"Original image\")\n",
    "\n",
    "#使用imshow的cmap参数指定颜色空间转换\n",
    "ax[1].imshow(ihc_hed[:, :, 0], cmap=cmap_hema)\n",
    "ax[1].set_title(\"Hematoxylin\")  #hematoxylin苏木精，一种碱性染液\n",
    "#苏木精-伊红染色法\n",
    "\n",
    "ax[2].imshow(ihc_hed[:, :, 1], cmap=cmap_eosin)\n",
    "ax[2].set_title(\"Eosin\")\n",
    "\n",
    "ax[3].imshow(ihc_hed[:, :, 2], cmap=cmap_dab)\n",
    "ax[3].set_title(\"DAB\")\n",
    "\n",
    "#关闭坐标轴\n",
    "for a in ax.ravel():\n",
    "    a.axis('off')\n",
    "\n",
    "fig.tight_layout()\n"
   ]
  },
  {
   "cell_type": "markdown",
   "metadata": {},
   "source": [
    "Now we can easily manipulate the hematoxylin and DAB \"channels\":\n",
    "\n"
   ]
  },
  {
   "cell_type": "code",
   "execution_count": 2,
   "metadata": {
    "collapsed": false
   },
   "outputs": [],
   "source": [
    "import numpy as np\n",
    "\n",
    "from skimage.exposure import rescale_intensity\n",
    "\n",
    "# Rescale hematoxylin and DAB signals and give them a fluorescence look\n",
    "#在HED颜色空间中有三个通道H，E，D，现在将H和D两个通道进行归一化操作\n",
    "h = rescale_intensity(ihc_hed[:, :, 0], out_range=(0, 1))\n",
    "d = rescale_intensity(ihc_hed[:, :, 2], out_range=(0, 1))\n",
    "zdh = np.dstack((np.zeros_like(h), d, h))\n",
    "\n",
    "fig = plt.figure()\n",
    "axis = plt.subplot(1, 1, 1, sharex=ax[0], sharey=ax[0], adjustable='box-forced')\n",
    "axis.imshow(zdh)\n",
    "axis.set_title(\"Stain separated image (rescaled)\")\n",
    "axis.axis('off')\n",
    "plt.show()"
   ]
  }
 ],
 "metadata": {
  "language_info": {
   "nbconvert_exporter": "python",
   "pygments_lexer": "ipython3",
   "name": "python",
   "file_extension": ".py",
   "mimetype": "text/x-python",
   "version": "3.4.6",
   "codemirror_mode": {
    "name": "ipython",
    "version": 3
   }
  },
  "kernelspec": {
   "name": "python3",
   "display_name": "Python 3",
   "language": "python"
  }
 },
 "nbformat": 4,
 "nbformat_minor": 0
}
