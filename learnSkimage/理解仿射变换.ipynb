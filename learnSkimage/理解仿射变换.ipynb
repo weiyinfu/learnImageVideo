{
 "cells": [
  {
   "cell_type": "code",
   "execution_count": 31,
   "metadata": {
    "collapsed": true
   },
   "outputs": [],
   "source": [
    "from skimage import io, data, viewer, transform,color\n",
    "import numpy as np\n",
    "ast = data.astronaut()\n",
    "\n"
   ]
  },
  {
   "cell_type": "code",
   "execution_count": 4,
   "metadata": {},
   "outputs": [],
   "source": [
    "#旋转变换\n",
    "rotate30 = transform.rotate(ast, 30)\n",
    "io.imshow(ast)\n",
    "io.imshow(rotate30)\n",
    "io.show()"
   ]
  },
  {
   "cell_type": "code",
   "execution_count": 8,
   "metadata": {},
   "outputs": [
    {
     "name": "stdout",
     "output_type": "stream",
     "text": [
      "(256, 256, 3) (512, 512, 3)\n"
     ]
    }
   ],
   "source": [
    "resize2=transform.resize(ast,(ast.shape[0]//2,ast.shape[1]//2))\n",
    "io.imshow(resize2)\n",
    "io.show()\n",
    "print(resize2.shape,ast.shape)"
   ]
  },
  {
   "cell_type": "code",
   "execution_count": 16,
   "metadata": {},
   "outputs": [],
   "source": [
    "io.imshow_collection(\n",
    "    [ast,\n",
    "     transform.swirl(ast,\n",
    "                     center=(ast.shape[0] // 2,\n",
    "                             ast.shape[1] // 2),\n",
    "                     radius=200,\n",
    "                     strength=16)])\n",
    "io.show()\n"
   ]
  },
  {
   "cell_type": "code",
   "execution_count": 39,
   "metadata": {},
   "outputs": [],
   "source": [
    "#旋转变换\n",
    "a=transform.AffineTransform(rotation=np.pi/4)\n",
    "img=transform.warp(data.astronaut(),a)\n",
    "io.imshow_collection([img,data.astronaut()])\n",
    "io.show()"
   ]
  },
  {
   "cell_type": "code",
   "execution_count": 66,
   "metadata": {},
   "outputs": [
    {
     "name": "stdout",
     "output_type": "stream",
     "text": [
      "[[ 1.          1.55740772  0.        ]\n [ 0.          1.85081572  0.        ]\n [ 0.          0.          1.        ]]\n"
     ]
    }
   ],
   "source": [
    "#错切变换\n",
    "a = transform.AffineTransform(shear=1)\n",
    "b=transform.AffineTransform(np.array(\n",
    "    [[1,-1,0],\n",
    "     [0,1,0],\n",
    "     [0,0,1]]))\n",
    "io.imshow_collection([ast,\n",
    "                      transform.warp(ast, a),\n",
    "                      transform.warp(ast,b)])\n",
    "io.show()\n",
    "print(a._inv_matrix)"
   ]
  }
 ],
 "metadata": {
  "kernelspec": {
   "display_name": "Python 2",
   "language": "python",
   "name": "python2"
  },
  "language_info": {
   "codemirror_mode": {
    "name": "ipython",
    "version": 2
   },
   "file_extension": ".py",
   "mimetype": "text/x-python",
   "name": "python",
   "nbconvert_exporter": "python",
   "pygments_lexer": "ipython2",
   "version": "2.7.6"
  }
 },
 "nbformat": 4,
 "nbformat_minor": 0
}
