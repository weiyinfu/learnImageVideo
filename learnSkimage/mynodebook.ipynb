{
 "cells": [
  {
   "cell_type": "code",
   "execution_count": null,
   "metadata": {
    "collapsed": true
   },
   "outputs": [
    {
     "data": {
      "text/plain": [
       "array([[[ 0.08222222,  0.48076923,  0.61176471],\n        [ 0.08222222,  0.4601227 ,  0.63921569],\n        [ 0.07777778,  0.48076923,  0.61176471],\n        ..., \n        [ 0.63636364,  0.2244898 ,  0.76862745],\n        [ 0.64035088,  0.18357488,  0.81176471],\n        [ 0.63425926,  0.16      ,  0.88235294]],\n\n       [[ 0.08333333,  0.5106383 ,  0.55294118],\n        [ 0.08333333,  0.5       ,  0.56470588],\n        [ 0.07638889,  0.5106383 ,  0.55294118],\n        ..., \n        [ 0.63636364,  0.21153846,  0.81568627],\n        [ 0.64035088,  0.18536585,  0.80392157],\n        [ 0.63333333,  0.16666667,  0.82352941]],\n\n       [[ 0.08333333,  0.528     ,  0.49019608],\n        [ 0.08333333,  0.5       ,  0.51764706],\n        [ 0.07960199,  0.48550725,  0.54117647],\n        ..., \n        [ 0.63095238,  0.19626168,  0.83921569],\n        [ 0.63425926,  0.18      ,  0.78431373],\n        [ 0.63131313,  0.16751269,  0.77254902]],\n\n       ..., \n       [[ 0.125     ,  0.05429864,  0.86666667],\n        [ 0.125     ,  0.05309735,  0.88627451],\n        [ 0.125     ,  0.05128205,  0.91764706],\n        ..., \n        [ 0.13333333,  0.02358491,  0.83137255],\n        [ 0.07142857,  0.03271028,  0.83921569],\n        [ 0.07142857,  0.03225806,  0.85098039]],\n\n       [[ 0.11666667,  0.04608295,  0.85098039],\n        [ 0.11666667,  0.04504505,  0.87058824],\n        [ 0.11666667,  0.04347826,  0.90196078],\n        ..., \n        [ 0.11111111,  0.01401869,  0.83921569],\n        [ 0.07142857,  0.03317536,  0.82745098],\n        [ 0.0625    ,  0.0372093 ,  0.84313725]],\n\n       [[ 0.11666667,  0.04504505,  0.87058824],\n        [ 0.11666667,  0.04504505,  0.87058824],\n        [ 0.11666667,  0.04464286,  0.87843137],\n        ..., \n        [ 0.11111111,  0.01428571,  0.82352941],\n        [ 0.0625    ,  0.03809524,  0.82352941],\n        [ 0.0625    ,  0.0372093 ,  0.84313725]]])"
      ]
     },
     "execution_count": 6,
     "metadata": {},
     "output_type": "execute_result"
    }
   ],
   "source": [
    "from skimage import data,color\n",
    "from PIL import Image\n",
    "img=data.immunohistochemistry()\n",
    "# Image.fromarray(img,\"RGB\").show()\n",
    "color.convert_colorspace(img,\"RGB\",\"HSV\")"
   ]
  },
  {
   "cell_type": "code",
   "execution_count": 19,
   "metadata": {},
   "outputs": [
    {
     "name": "stdout",
     "output_type": "stream",
     "text": [
      "1.73205080757 5.19615242271\n"
     ]
    }
   ],
   "source": [
    "x=color.deltaE_cie76([1,2,4],[2,3,5])\n",
    "import numpy as np\n",
    "y=np.linalg.norm(np.array([1,2,3])-[4,5,6])\n",
    "print(x,y)"
   ]
  },
  {
   "cell_type": "code",
   "execution_count": 29,
   "metadata": {},
   "outputs": [],
   "source": [
    "from skimage import draw\n",
    "img=np.zeros((100,100),np.uint8)\n",
    "x,y=draw.bezier_curve(10,10,30,90,10,80,3)\n",
    "img[x,y]=255\n",
    "x,y=draw.circle(50,50,30)\n",
    "img[x,y]=128\n",
    "img[draw.circle_perimeter(50,50,20)]=200\n",
    "Image.fromarray(img,\"L\").show()"
   ]
  },
  {
   "cell_type": "code",
   "execution_count": 30,
   "metadata": {},
   "outputs": [
    {
     "name": "stderr",
     "output_type": "stream",
     "text": [
      "C:\\anaconda\\lib\\site-packages\\ipykernel\\__main__.py:2: UserWarning: hello\n  from ipykernel import kernelapp as app\n"
     ]
    }
   ],
   "source": [
    "from skimage import viewer\n",
    "viewer.warn(\"hello\")"
   ]
  },
  {
   "cell_type": "code",
   "execution_count": 32,
   "metadata": {
    "collapsed": true
   },
   "outputs": [
    {
     "data": {
      "text/plain": [
       "{'fits': ['imread', 'imread_collection'],\n 'freeimage': ['imread', 'imsave', 'imread_collection'],\n 'gdal': ['imread', 'imread_collection'],\n 'gtk': ['imshow'],\n 'imageio': ['imread', 'imsave', 'imread_collection'],\n 'imread': ['imread', 'imsave', 'imread_collection'],\n 'matplotlib': ['imshow', 'imread', 'imshow_collection', 'imread_collection'],\n 'pil': ['imread', 'imsave', 'imread_collection'],\n 'qt': ['imshow', 'imsave', 'imread', 'imread_collection'],\n 'simpleitk': ['imread', 'imsave', 'imread_collection'],\n 'test': ['imsave',\n  'imshow',\n  'imread',\n  'imread_collection',\n  'imshow_collection'],\n 'tifffile': ['imread', 'imsave', 'imread_collection']}"
      ]
     },
     "execution_count": 32,
     "metadata": {},
     "output_type": "execute_result"
    }
   ],
   "source": [
    "from skimage import io\n",
    "io.available_plugins"
   ]
  },
  {
   "cell_type": "code",
   "execution_count": 7,
   "metadata": {
    "collapsed": true
   },
   "outputs": [
    {
     "name": "stdout",
     "output_type": "stream",
     "text": [
      "10 197\n0 255\n"
     ]
    },
    {
     "data": {
      "text/plain": [
       "[]"
      ]
     },
     "execution_count": 7,
     "metadata": {},
     "output_type": "execute_result"
    }
   ],
   "source": [
    "from skimage import data,viewer\n",
    "img=data.text()\n",
    "print(img.min(),img.max())\n",
    "from skimage import exposure\n",
    "res=exposure.rescale_intensity(img)\n",
    "print(res.min(),res.max())\n",
    "viewer.CollectionViewer((res,img)).show()"
   ]
  },
  {
   "cell_type": "code",
   "execution_count": 11,
   "metadata": {},
   "outputs": [
    {
     "data": {
      "text/plain": [
       "[]"
      ]
     },
     "execution_count": 11,
     "metadata": {},
     "output_type": "execute_result"
    }
   ],
   "source": [
    "viewer.ImageViewer(data.moon()).show()"
   ]
  }
 ],
 "metadata": {
  "kernelspec": {
   "display_name": "Python 2",
   "language": "python",
   "name": "python2"
  },
  "language_info": {
   "codemirror_mode": {
    "name": "ipython",
    "version": 2
   },
   "file_extension": ".py",
   "mimetype": "text/x-python",
   "name": "python",
   "nbconvert_exporter": "python",
   "pygments_lexer": "ipython2",
   "version": "2.7.6"
  }
 },
 "nbformat": 4,
 "nbformat_minor": 0
}
